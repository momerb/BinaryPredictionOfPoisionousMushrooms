{
 "cells": [
  {
   "cell_type": "code",
   "execution_count": 145,
   "metadata": {},
   "outputs": [],
   "source": [
    "import pandas as pd\n",
    "import matplotlib.pyplot as plt\n",
    "import seaborn as sns\n",
    "pd.set_option('display.max_columns', None)\n",
    "pd.set_option('display.max_rows', None)"
   ]
  },
  {
   "cell_type": "code",
   "execution_count": 146,
   "metadata": {},
   "outputs": [],
   "source": [
    "df_train = pd.read_csv('../data/row/train.csv')\n",
    "df_test = pd.read_csv('../data/row/test.csv')"
   ]
  },
  {
   "cell_type": "code",
   "execution_count": 147,
   "metadata": {},
   "outputs": [
    {
     "data": {
      "text/html": [
       "<div>\n",
       "<style scoped>\n",
       "    .dataframe tbody tr th:only-of-type {\n",
       "        vertical-align: middle;\n",
       "    }\n",
       "\n",
       "    .dataframe tbody tr th {\n",
       "        vertical-align: top;\n",
       "    }\n",
       "\n",
       "    .dataframe thead th {\n",
       "        text-align: right;\n",
       "    }\n",
       "</style>\n",
       "<table border=\"1\" class=\"dataframe\">\n",
       "  <thead>\n",
       "    <tr style=\"text-align: right;\">\n",
       "      <th></th>\n",
       "      <th>id</th>\n",
       "      <th>class</th>\n",
       "      <th>cap-diameter</th>\n",
       "      <th>cap-shape</th>\n",
       "      <th>cap-surface</th>\n",
       "      <th>cap-color</th>\n",
       "      <th>does-bruise-or-bleed</th>\n",
       "      <th>gill-attachment</th>\n",
       "      <th>gill-spacing</th>\n",
       "      <th>gill-color</th>\n",
       "      <th>stem-height</th>\n",
       "      <th>stem-width</th>\n",
       "      <th>stem-root</th>\n",
       "      <th>stem-surface</th>\n",
       "      <th>stem-color</th>\n",
       "      <th>veil-type</th>\n",
       "      <th>veil-color</th>\n",
       "      <th>has-ring</th>\n",
       "      <th>ring-type</th>\n",
       "      <th>spore-print-color</th>\n",
       "      <th>habitat</th>\n",
       "      <th>season</th>\n",
       "    </tr>\n",
       "  </thead>\n",
       "  <tbody>\n",
       "    <tr>\n",
       "      <th>0</th>\n",
       "      <td>0</td>\n",
       "      <td>e</td>\n",
       "      <td>8.80</td>\n",
       "      <td>f</td>\n",
       "      <td>s</td>\n",
       "      <td>u</td>\n",
       "      <td>f</td>\n",
       "      <td>a</td>\n",
       "      <td>c</td>\n",
       "      <td>w</td>\n",
       "      <td>4.51</td>\n",
       "      <td>15.39</td>\n",
       "      <td>NaN</td>\n",
       "      <td>NaN</td>\n",
       "      <td>w</td>\n",
       "      <td>NaN</td>\n",
       "      <td>NaN</td>\n",
       "      <td>f</td>\n",
       "      <td>f</td>\n",
       "      <td>NaN</td>\n",
       "      <td>d</td>\n",
       "      <td>a</td>\n",
       "    </tr>\n",
       "    <tr>\n",
       "      <th>1</th>\n",
       "      <td>1</td>\n",
       "      <td>p</td>\n",
       "      <td>4.51</td>\n",
       "      <td>x</td>\n",
       "      <td>h</td>\n",
       "      <td>o</td>\n",
       "      <td>f</td>\n",
       "      <td>a</td>\n",
       "      <td>c</td>\n",
       "      <td>n</td>\n",
       "      <td>4.79</td>\n",
       "      <td>6.48</td>\n",
       "      <td>NaN</td>\n",
       "      <td>y</td>\n",
       "      <td>o</td>\n",
       "      <td>NaN</td>\n",
       "      <td>NaN</td>\n",
       "      <td>t</td>\n",
       "      <td>z</td>\n",
       "      <td>NaN</td>\n",
       "      <td>d</td>\n",
       "      <td>w</td>\n",
       "    </tr>\n",
       "    <tr>\n",
       "      <th>2</th>\n",
       "      <td>2</td>\n",
       "      <td>e</td>\n",
       "      <td>6.94</td>\n",
       "      <td>f</td>\n",
       "      <td>s</td>\n",
       "      <td>b</td>\n",
       "      <td>f</td>\n",
       "      <td>x</td>\n",
       "      <td>c</td>\n",
       "      <td>w</td>\n",
       "      <td>6.85</td>\n",
       "      <td>9.93</td>\n",
       "      <td>NaN</td>\n",
       "      <td>s</td>\n",
       "      <td>n</td>\n",
       "      <td>NaN</td>\n",
       "      <td>NaN</td>\n",
       "      <td>f</td>\n",
       "      <td>f</td>\n",
       "      <td>NaN</td>\n",
       "      <td>l</td>\n",
       "      <td>w</td>\n",
       "    </tr>\n",
       "    <tr>\n",
       "      <th>3</th>\n",
       "      <td>3</td>\n",
       "      <td>e</td>\n",
       "      <td>3.88</td>\n",
       "      <td>f</td>\n",
       "      <td>y</td>\n",
       "      <td>g</td>\n",
       "      <td>f</td>\n",
       "      <td>s</td>\n",
       "      <td>NaN</td>\n",
       "      <td>g</td>\n",
       "      <td>4.16</td>\n",
       "      <td>6.53</td>\n",
       "      <td>NaN</td>\n",
       "      <td>NaN</td>\n",
       "      <td>w</td>\n",
       "      <td>NaN</td>\n",
       "      <td>NaN</td>\n",
       "      <td>f</td>\n",
       "      <td>f</td>\n",
       "      <td>NaN</td>\n",
       "      <td>d</td>\n",
       "      <td>u</td>\n",
       "    </tr>\n",
       "    <tr>\n",
       "      <th>4</th>\n",
       "      <td>4</td>\n",
       "      <td>e</td>\n",
       "      <td>5.85</td>\n",
       "      <td>x</td>\n",
       "      <td>l</td>\n",
       "      <td>w</td>\n",
       "      <td>f</td>\n",
       "      <td>d</td>\n",
       "      <td>NaN</td>\n",
       "      <td>w</td>\n",
       "      <td>3.37</td>\n",
       "      <td>8.36</td>\n",
       "      <td>NaN</td>\n",
       "      <td>NaN</td>\n",
       "      <td>w</td>\n",
       "      <td>NaN</td>\n",
       "      <td>NaN</td>\n",
       "      <td>f</td>\n",
       "      <td>f</td>\n",
       "      <td>NaN</td>\n",
       "      <td>g</td>\n",
       "      <td>a</td>\n",
       "    </tr>\n",
       "  </tbody>\n",
       "</table>\n",
       "</div>"
      ],
      "text/plain": [
       "   id class  cap-diameter cap-shape cap-surface cap-color  \\\n",
       "0   0     e          8.80         f           s         u   \n",
       "1   1     p          4.51         x           h         o   \n",
       "2   2     e          6.94         f           s         b   \n",
       "3   3     e          3.88         f           y         g   \n",
       "4   4     e          5.85         x           l         w   \n",
       "\n",
       "  does-bruise-or-bleed gill-attachment gill-spacing gill-color  stem-height  \\\n",
       "0                    f               a            c          w         4.51   \n",
       "1                    f               a            c          n         4.79   \n",
       "2                    f               x            c          w         6.85   \n",
       "3                    f               s          NaN          g         4.16   \n",
       "4                    f               d          NaN          w         3.37   \n",
       "\n",
       "   stem-width stem-root stem-surface stem-color veil-type veil-color has-ring  \\\n",
       "0       15.39       NaN          NaN          w       NaN        NaN        f   \n",
       "1        6.48       NaN            y          o       NaN        NaN        t   \n",
       "2        9.93       NaN            s          n       NaN        NaN        f   \n",
       "3        6.53       NaN          NaN          w       NaN        NaN        f   \n",
       "4        8.36       NaN          NaN          w       NaN        NaN        f   \n",
       "\n",
       "  ring-type spore-print-color habitat season  \n",
       "0         f               NaN       d      a  \n",
       "1         z               NaN       d      w  \n",
       "2         f               NaN       l      w  \n",
       "3         f               NaN       d      u  \n",
       "4         f               NaN       g      a  "
      ]
     },
     "execution_count": 147,
     "metadata": {},
     "output_type": "execute_result"
    }
   ],
   "source": [
    "df = pd.concat([df_train, df_test], ignore_index=True)\n",
    "\n",
    "df.head()"
   ]
  },
  {
   "cell_type": "code",
   "execution_count": 148,
   "metadata": {},
   "outputs": [
    {
     "data": {
      "text/plain": [
       "((5194909, 22), (3116945, 22))"
      ]
     },
     "execution_count": 148,
     "metadata": {},
     "output_type": "execute_result"
    }
   ],
   "source": [
    "df.shape, df_train.shape"
   ]
  },
  {
   "cell_type": "code",
   "execution_count": 149,
   "metadata": {},
   "outputs": [
    {
     "data": {
      "text/plain": [
       "id                       0.0\n",
       "class                   40.0\n",
       "cap-diameter             0.0\n",
       "cap-shape                0.0\n",
       "cap-surface             22.0\n",
       "cap-color                0.0\n",
       "does-bruise-or-bleed     0.0\n",
       "gill-attachment         17.0\n",
       "gill-spacing            40.0\n",
       "gill-color               0.0\n",
       "stem-height              0.0\n",
       "stem-width               0.0\n",
       "stem-root               88.0\n",
       "stem-surface            64.0\n",
       "stem-color               0.0\n",
       "veil-type               95.0\n",
       "veil-color              88.0\n",
       "has-ring                 0.0\n",
       "ring-type                4.0\n",
       "spore-print-color       91.0\n",
       "habitat                  0.0\n",
       "season                   0.0\n",
       "dtype: float64"
      ]
     },
     "execution_count": 149,
     "metadata": {},
     "output_type": "execute_result"
    }
   ],
   "source": [
    "round(df.isnull().sum()/len(df)*100)"
   ]
  },
  {
   "cell_type": "markdown",
   "metadata": {},
   "source": [
    "deleting the columns that have more than 40% missing values in the combined train and test dataset"
   ]
  },
  {
   "cell_type": "code",
   "execution_count": 150,
   "metadata": {},
   "outputs": [],
   "source": [
    "df.drop(['gill-spacing', 'stem-root', 'stem-surface', 'veil-type', \n",
    "               'veil-color', 'spore-print-color'], \n",
    "               axis=1, \n",
    "               inplace=True)"
   ]
  },
  {
   "cell_type": "code",
   "execution_count": 151,
   "metadata": {},
   "outputs": [
    {
     "data": {
      "text/plain": [
       "(5194909, 16)"
      ]
     },
     "execution_count": 151,
     "metadata": {},
     "output_type": "execute_result"
    }
   ],
   "source": [
    "df.shape"
   ]
  },
  {
   "cell_type": "code",
   "execution_count": 152,
   "metadata": {},
   "outputs": [
    {
     "data": {
      "text/plain": [
       "id                       0.000000\n",
       "class                   40.000008\n",
       "cap-diameter             0.000212\n",
       "cap-shape                0.001367\n",
       "cap-surface             21.519665\n",
       "cap-color                0.000481\n",
       "does-bruise-or-bleed     0.000346\n",
       "gill-attachment         16.819486\n",
       "gill-color               0.002040\n",
       "stem-height              0.000019\n",
       "stem-width               0.000000\n",
       "stem-color               0.001136\n",
       "has-ring                 0.000828\n",
       "ring-type                4.140111\n",
       "habitat                  0.001347\n",
       "season                   0.000000\n",
       "dtype: float64"
      ]
     },
     "execution_count": 152,
     "metadata": {},
     "output_type": "execute_result"
    }
   ],
   "source": [
    "df.isnull().sum()/len(df)*100"
   ]
  },
  {
   "cell_type": "code",
   "execution_count": 153,
   "metadata": {},
   "outputs": [
    {
     "data": {
      "text/plain": [
       "Index(['id', 'class', 'cap-diameter', 'cap-shape', 'cap-surface', 'cap-color',\n",
       "       'does-bruise-or-bleed', 'gill-attachment', 'gill-color', 'stem-height',\n",
       "       'stem-width', 'stem-color', 'has-ring', 'ring-type', 'habitat',\n",
       "       'season'],\n",
       "      dtype='object')"
      ]
     },
     "execution_count": 153,
     "metadata": {},
     "output_type": "execute_result"
    }
   ],
   "source": [
    "df.columns"
   ]
  },
  {
   "cell_type": "code",
   "execution_count": 154,
   "metadata": {},
   "outputs": [
    {
     "data": {
      "text/plain": [
       "cap-shape\n",
       "x               2393975\n",
       "f               1128598\n",
       "s                607844\n",
       "b                530525\n",
       "o                180807\n",
       "p                178269\n",
       "c                173956\n",
       "d                    95\n",
       "e                    93\n",
       "n                    68\n",
       "t                    64\n",
       "w                    63\n",
       "y                    57\n",
       "a                    54\n",
       "g                    51\n",
       "r                    48\n",
       "u                    45\n",
       "l                    38\n",
       "z                    30\n",
       "k                    30\n",
       "i                    18\n",
       "h                     9\n",
       "m                     6\n",
       "8                     3\n",
       "4.97                  2\n",
       "7.21                  2\n",
       "8.3                   2\n",
       "is f                  2\n",
       "ring-type             2\n",
       "7 x                   2\n",
       "3.55                  2\n",
       "5 f                   2\n",
       "3.23                  1\n",
       "p f                   1\n",
       "6                     1\n",
       "17.89                 1\n",
       "11.43                 1\n",
       "4.55                  1\n",
       "1.25                  1\n",
       "0.93                  1\n",
       "4.41                  1\n",
       "19.76                 1\n",
       "3.32                  1\n",
       "3.34                  1\n",
       "19.06                 1\n",
       "6.53                  1\n",
       "2.82                  1\n",
       "0.74                  1\n",
       "5.59                  1\n",
       "3.73                  1\n",
       "6.47                  1\n",
       "6.15                  1\n",
       "3.94                  1\n",
       "2.02                  1\n",
       "1.53                  1\n",
       "17.44                 1\n",
       "0.97                  1\n",
       "4.86                  1\n",
       "4.51                  1\n",
       "cap-diameter          1\n",
       "3.47                  1\n",
       "5.05                  1\n",
       "3.15                  1\n",
       "2.7                   1\n",
       "9.49                  1\n",
       "6.52                  1\n",
       "51.63                 1\n",
       "6.75                  1\n",
       "4.33                  1\n",
       "11.12                 1\n",
       "7.6                   1\n",
       "10.13                 1\n",
       "12.62                 1\n",
       "2.94                  1\n",
       "2.77                  1\n",
       "10.46                 1\n",
       "0.82                  1\n",
       "7.43                  1\n",
       "is p                  1\n",
       "24.16                 1\n",
       "6.44                  1\n",
       "6 x                   1\n",
       "21.56                 1\n",
       "3.6                   1\n",
       "4.22                  1\n",
       "is s                  1\n",
       "2.85                  1\n",
       "19.29                 1\n",
       "5.15                  1\n",
       "19.04                 1\n",
       "49.21                 1\n",
       "b f                   1\n",
       "3.91                  1\n",
       "2.63                  1\n",
       "3.04                  1\n",
       "3.52                  1\n",
       "20.25                 1\n",
       "54.78                 1\n",
       "8.29                  1\n",
       "6.21                  1\n",
       "7.41                  1\n",
       "4.3                   1\n",
       "3 x                   1\n",
       "3.25                  1\n",
       "3.37                  1\n",
       "1.66                  1\n",
       "9.13                  1\n",
       "4.54                  1\n",
       "Name: count, dtype: int64"
      ]
     },
     "execution_count": 154,
     "metadata": {},
     "output_type": "execute_result"
    }
   ],
   "source": [
    "pd.set_option('display.max_rows', None)\n",
    "df['cap-shape'].value_counts()"
   ]
  },
  {
   "cell_type": "code",
   "execution_count": 155,
   "metadata": {},
   "outputs": [
    {
     "name": "stdout",
     "output_type": "stream",
     "text": [
      "<class 'pandas.core.frame.DataFrame'>\n",
      "RangeIndex: 5194909 entries, 0 to 5194908\n",
      "Data columns (total 16 columns):\n",
      " #   Column                Dtype  \n",
      "---  ------                -----  \n",
      " 0   id                    int64  \n",
      " 1   class                 object \n",
      " 2   cap-diameter          float64\n",
      " 3   cap-shape             object \n",
      " 4   cap-surface           object \n",
      " 5   cap-color             object \n",
      " 6   does-bruise-or-bleed  object \n",
      " 7   gill-attachment       object \n",
      " 8   gill-color            object \n",
      " 9   stem-height           float64\n",
      " 10  stem-width            float64\n",
      " 11  stem-color            object \n",
      " 12  has-ring              object \n",
      " 13  ring-type             object \n",
      " 14  habitat               object \n",
      " 15  season                object \n",
      "dtypes: float64(3), int64(1), object(12)\n",
      "memory usage: 634.1+ MB\n"
     ]
    }
   ],
   "source": [
    "df.info()"
   ]
  },
  {
   "cell_type": "code",
   "execution_count": 156,
   "metadata": {},
   "outputs": [
    {
     "name": "stdout",
     "output_type": "stream",
     "text": [
      "<class 'pandas.core.frame.DataFrame'>\n",
      "RangeIndex: 5194909 entries, 0 to 5194908\n",
      "Data columns (total 16 columns):\n",
      " #   Column                Dtype  \n",
      "---  ------                -----  \n",
      " 0   id                    int64  \n",
      " 1   class                 object \n",
      " 2   cap-diameter          float64\n",
      " 3   cap-shape             object \n",
      " 4   cap-surface           object \n",
      " 5   cap-color             object \n",
      " 6   does-bruise-or-bleed  object \n",
      " 7   gill-attachment       object \n",
      " 8   gill-color            object \n",
      " 9   stem-height           float64\n",
      " 10  stem-width            float64\n",
      " 11  stem-color            object \n",
      " 12  has-ring              object \n",
      " 13  ring-type             object \n",
      " 14  habitat               object \n",
      " 15  season                object \n",
      "dtypes: float64(3), int64(1), object(12)\n",
      "memory usage: 634.1+ MB\n"
     ]
    }
   ],
   "source": [
    "df.info()"
   ]
  },
  {
   "cell_type": "code",
   "execution_count": 157,
   "metadata": {},
   "outputs": [
    {
     "data": {
      "text/plain": [
       "(['cap-shape',\n",
       "  'cap-surface',\n",
       "  'cap-color',\n",
       "  'does-bruise-or-bleed',\n",
       "  'gill-attachment',\n",
       "  'gill-color',\n",
       "  'stem-color',\n",
       "  'has-ring',\n",
       "  'ring-type',\n",
       "  'habitat',\n",
       "  'season'],\n",
       " ['cap-diameter', 'stem-height', 'stem-width'])"
      ]
     },
     "execution_count": 157,
     "metadata": {},
     "output_type": "execute_result"
    }
   ],
   "source": [
    "columns_float = ['cap-diameter', 'stem-height', 'stem-width']\n",
    "\n",
    "columns_str = [col for col in df.columns.tolist() if col not in (['id', 'class'] + columns_float)]\n",
    "\n",
    "columns_str, columns_float"
   ]
  },
  {
   "cell_type": "code",
   "execution_count": 158,
   "metadata": {},
   "outputs": [
    {
     "data": {
      "text/plain": [
       "id                            0\n",
       "class                   2077964\n",
       "cap-diameter                 11\n",
       "cap-shape                    71\n",
       "cap-surface             1117927\n",
       "cap-color                    25\n",
       "does-bruise-or-bleed         18\n",
       "gill-attachment          873757\n",
       "gill-color                  106\n",
       "stem-height                   1\n",
       "stem-width                    0\n",
       "stem-color                   59\n",
       "has-ring                     43\n",
       "ring-type                215075\n",
       "habitat                      70\n",
       "season                        0\n",
       "dtype: int64"
      ]
     },
     "execution_count": 158,
     "metadata": {},
     "output_type": "execute_result"
    }
   ],
   "source": [
    "df.isnull().sum()"
   ]
  },
  {
   "cell_type": "code",
   "execution_count": 159,
   "metadata": {},
   "outputs": [],
   "source": [
    "for col in columns_str:\n",
    "    df[col] = df[col].fillna(df[col].mode()[0])\n",
    "\n",
    "for col in columns_float:\n",
    "    df[col] = df[col].fillna(df[col].median())"
   ]
  },
  {
   "cell_type": "code",
   "execution_count": 160,
   "metadata": {},
   "outputs": [
    {
     "data": {
      "text/plain": [
       "id                            0\n",
       "class                   2077964\n",
       "cap-diameter                  0\n",
       "cap-shape                     0\n",
       "cap-surface                   0\n",
       "cap-color                     0\n",
       "does-bruise-or-bleed          0\n",
       "gill-attachment               0\n",
       "gill-color                    0\n",
       "stem-height                   0\n",
       "stem-width                    0\n",
       "stem-color                    0\n",
       "has-ring                      0\n",
       "ring-type                     0\n",
       "habitat                       0\n",
       "season                        0\n",
       "dtype: int64"
      ]
     },
     "execution_count": 160,
     "metadata": {},
     "output_type": "execute_result"
    }
   ],
   "source": [
    "df.isnull().sum()"
   ]
  },
  {
   "cell_type": "code",
   "execution_count": 161,
   "metadata": {},
   "outputs": [
    {
     "data": {
      "text/plain": [
       "3116945"
      ]
     },
     "execution_count": 161,
     "metadata": {},
     "output_type": "execute_result"
    }
   ],
   "source": [
    "df_train.shape[0]"
   ]
  },
  {
   "cell_type": "code",
   "execution_count": 162,
   "metadata": {},
   "outputs": [],
   "source": [
    "df_train = df.iloc[:df_train.shape[0]].reset_index(drop=True)\n",
    "df_test = df.iloc[df_train.shape[0]:].reset_index(drop=True)"
   ]
  },
  {
   "cell_type": "code",
   "execution_count": 163,
   "metadata": {},
   "outputs": [],
   "source": [
    "def filter_by_value_counts(dataframe, column, min_value):\n",
    "    \n",
    "    value_counts = dataframe[column].value_counts()\n",
    "\n",
    "    return dataframe[dataframe[column].isin(value_counts[value_counts >= min_value].index)]"
   ]
  },
  {
   "cell_type": "code",
   "execution_count": 164,
   "metadata": {},
   "outputs": [
    {
     "data": {
      "text/plain": [
       "cap-shape\n",
       "x            1436066\n",
       "f             676238\n",
       "s             365146\n",
       "b             318646\n",
       "o             108835\n",
       "p             106967\n",
       "c             104520\n",
       "d                 65\n",
       "e                 60\n",
       "n                 41\n",
       "t                 36\n",
       "w                 36\n",
       "g                 34\n",
       "y                 33\n",
       "r                 32\n",
       "a                 30\n",
       "u                 27\n",
       "z                 22\n",
       "l                 21\n",
       "i                 14\n",
       "k                 13\n",
       "h                  6\n",
       "m                  2\n",
       "8                  2\n",
       "3.55               2\n",
       "7 x                2\n",
       "4.97               2\n",
       "3.25               1\n",
       "11.12              1\n",
       "3 x                1\n",
       "4.3                1\n",
       "7.41               1\n",
       "6.21               1\n",
       "8.29               1\n",
       "7.21               1\n",
       "54.78              1\n",
       "2.82               1\n",
       "20.25              1\n",
       "3.52               1\n",
       "3.04               1\n",
       "6.53               1\n",
       "2.63               1\n",
       "3.91               1\n",
       "6.44               1\n",
       "8.3                1\n",
       "7.6                1\n",
       "1.66               1\n",
       "17.44              1\n",
       "4.33               1\n",
       "3.37               1\n",
       "7.43               1\n",
       "9.13               1\n",
       "ring-type          1\n",
       "19.29              1\n",
       "5 f                1\n",
       "2.85               1\n",
       "is s               1\n",
       "4.22               1\n",
       "3.6                1\n",
       "21.56              1\n",
       "6 x                1\n",
       "24.16              1\n",
       "10.13              1\n",
       "b f                1\n",
       "is p               1\n",
       "0.82               1\n",
       "10.46              1\n",
       "2.77               1\n",
       "2.94               1\n",
       "12.62              1\n",
       "5.15               1\n",
       "19.04              1\n",
       "49.21              1\n",
       "19.06              1\n",
       "Name: count, dtype: int64"
      ]
     },
     "execution_count": 164,
     "metadata": {},
     "output_type": "execute_result"
    }
   ],
   "source": [
    "df_train['cap-shape'].value_counts()"
   ]
  },
  {
   "cell_type": "code",
   "execution_count": 165,
   "metadata": {},
   "outputs": [
    {
     "data": {
      "text/plain": [
       "cap-shape\n",
       "x    1436066\n",
       "f     676238\n",
       "s     365146\n",
       "b     318646\n",
       "o     108835\n",
       "p     106967\n",
       "c     104520\n",
       "Name: count, dtype: int64"
      ]
     },
     "execution_count": 165,
     "metadata": {},
     "output_type": "execute_result"
    }
   ],
   "source": [
    "df_train = filter_by_value_counts(dataframe=df_train, column='cap-shape', min_value=66)\n",
    "\n",
    "df_train['cap-shape'].value_counts()"
   ]
  },
  {
   "cell_type": "code",
   "execution_count": 166,
   "metadata": {},
   "outputs": [
    {
     "data": {
      "text/plain": [
       "cap-surface\n",
       "t                       1131646\n",
       "s                        384887\n",
       "y                        327728\n",
       "h                        284425\n",
       "g                        263692\n",
       "d                        206804\n",
       "k                        128851\n",
       "e                        119691\n",
       "i                        113424\n",
       "w                        109817\n",
       "l                         44852\n",
       "n                            96\n",
       "f                            75\n",
       "p                            59\n",
       "u                            49\n",
       "a                            44\n",
       "m                            42\n",
       "o                            39\n",
       "r                            35\n",
       "x                            33\n",
       "c                            31\n",
       "b                            18\n",
       "z                             8\n",
       "season                        7\n",
       "ring-type                     4\n",
       "does None                     2\n",
       "has-ring                      2\n",
       "class                         2\n",
       "does t                        2\n",
       "is k                          1\n",
       "4.93                          1\n",
       "does-bruise-or-bleed          1\n",
       "10.1                          1\n",
       "2.79                          1\n",
       "2.92                          1\n",
       "2.11                          1\n",
       "0.88                          1\n",
       "2.81                          1\n",
       "spore-print-color             1\n",
       "7.99                          1\n",
       "2.51                          1\n",
       "10.34                         1\n",
       "is y                          1\n",
       "3.64                          1\n",
       "3.33                          1\n",
       "41.91                         1\n",
       "12.2                          1\n",
       "8.01                          1\n",
       "9.22                          1\n",
       "is None                       1\n",
       "1.14                          1\n",
       "6.49                          1\n",
       "1.08                          1\n",
       "24.38                         1\n",
       "veil-color                    1\n",
       "5.73                          1\n",
       "6.45                          1\n",
       "15.94                         1\n",
       "2.7                           1\n",
       "does l                        1\n",
       "5.07                          1\n",
       "cap-diameter                  1\n",
       "1.43                          1\n",
       "7.14                          1\n",
       "is h                          1\n",
       "0.85                          1\n",
       "6.57                          1\n",
       "12.79                         1\n",
       "4.66                          1\n",
       "14.04                         1\n",
       "23.18                         1\n",
       "3.06                          1\n",
       "16.39                         1\n",
       "4.21                          1\n",
       "11.78                         1\n",
       "8.1                           1\n",
       "does h                        1\n",
       "1.42                          1\n",
       "has h                         1\n",
       "10.83                         1\n",
       "8.96                          1\n",
       "0.87                          1\n",
       "Name: count, dtype: int64"
      ]
     },
     "execution_count": 166,
     "metadata": {},
     "output_type": "execute_result"
    }
   ],
   "source": [
    "df_train['cap-surface'].value_counts()"
   ]
  },
  {
   "cell_type": "code",
   "execution_count": 167,
   "metadata": {},
   "outputs": [
    {
     "data": {
      "text/plain": [
       "cap-surface\n",
       "t    1131646\n",
       "s     384887\n",
       "y     327728\n",
       "h     284425\n",
       "g     263692\n",
       "d     206804\n",
       "k     128851\n",
       "e     119691\n",
       "i     113424\n",
       "w     109817\n",
       "l      44852\n",
       "Name: count, dtype: int64"
      ]
     },
     "execution_count": 167,
     "metadata": {},
     "output_type": "execute_result"
    }
   ],
   "source": [
    "df_train = filter_by_value_counts(dataframe=df_train, column='cap-surface', min_value=97)\n",
    "\n",
    "df_train['cap-surface'].value_counts()"
   ]
  },
  {
   "cell_type": "code",
   "execution_count": 168,
   "metadata": {},
   "outputs": [
    {
     "data": {
      "text/plain": [
       "cap-color\n",
       "n                       1359097\n",
       "y                        386461\n",
       "w                        379285\n",
       "g                        210770\n",
       "e                        197224\n",
       "o                        178772\n",
       "p                         91811\n",
       "r                         78197\n",
       "u                         73141\n",
       "b                         61301\n",
       "k                         59861\n",
       "l                         39542\n",
       "f                            53\n",
       "d                            48\n",
       "s                            39\n",
       "a                            30\n",
       "t                            26\n",
       "h                            22\n",
       "m                            14\n",
       "x                            14\n",
       "c                            14\n",
       "i                            13\n",
       "z                            10\n",
       "ring-type                     6\n",
       "season                        6\n",
       "class                         5\n",
       "11.13                         2\n",
       "does-bruise-or-bleed          2\n",
       "3.34                          2\n",
       "2.7                           1\n",
       "8.57                          1\n",
       "17.93                         1\n",
       "2.57                          1\n",
       "11.92                         1\n",
       "3.08                          1\n",
       "2.82                          1\n",
       "4.24                          1\n",
       "17.19                         1\n",
       "20.02                         1\n",
       "7                             1\n",
       "2.9                           1\n",
       "6.36                          1\n",
       "5.91                          1\n",
       "10.56                         1\n",
       "26.89                         1\n",
       "4. n                          1\n",
       "20.62                         1\n",
       "stem-surface                  1\n",
       "20                            1\n",
       "25.98                         1\n",
       "8.67                          1\n",
       "3.11                          1\n",
       "does n                        1\n",
       "5.41                          1\n",
       "10.1                          1\n",
       "2.05                          1\n",
       "13                            1\n",
       "7.72                          1\n",
       "6.76                          1\n",
       "7.15                          1\n",
       "12.89                         1\n",
       "8.83                          1\n",
       "24.75                         1\n",
       "22.38                         1\n",
       "1.51                          1\n",
       "17.94                         1\n",
       "6.9                           1\n",
       "3.57                          1\n",
       "4.89                          1\n",
       "6.2                           1\n",
       "21.53                         1\n",
       "6.41                          1\n",
       "4.98                          1\n",
       "3.95                          1\n",
       "6.59                          1\n",
       "5.25                          1\n",
       "veil-color                    1\n",
       "9.02                          1\n",
       "Name: count, dtype: int64"
      ]
     },
     "execution_count": 168,
     "metadata": {},
     "output_type": "execute_result"
    }
   ],
   "source": [
    "df_train['cap-color'].value_counts()"
   ]
  },
  {
   "cell_type": "code",
   "execution_count": 169,
   "metadata": {},
   "outputs": [
    {
     "data": {
      "text/plain": [
       "cap-color\n",
       "n    1359097\n",
       "y     386461\n",
       "w     379285\n",
       "g     210770\n",
       "e     197224\n",
       "o     178772\n",
       "p      91811\n",
       "r      78197\n",
       "u      73141\n",
       "b      61301\n",
       "k      59861\n",
       "l      39542\n",
       "Name: count, dtype: int64"
      ]
     },
     "execution_count": 169,
     "metadata": {},
     "output_type": "execute_result"
    }
   ],
   "source": [
    "df_train = filter_by_value_counts(dataframe=df_train, column='cap-color', min_value=54)\n",
    "\n",
    "df_train['cap-color'].value_counts()"
   ]
  },
  {
   "cell_type": "code",
   "execution_count": 170,
   "metadata": {},
   "outputs": [
    {
     "data": {
      "text/plain": [
       "does-bruise-or-bleed\n",
       "f           2568525\n",
       "t            546829\n",
       "w                14\n",
       "c                11\n",
       "h                 9\n",
       "a                 7\n",
       "b                 7\n",
       "x                 7\n",
       "y                 7\n",
       "s                 6\n",
       "k                 5\n",
       "e                 4\n",
       "l                 4\n",
       "p                 4\n",
       "d                 4\n",
       "g                 3\n",
       "z                 3\n",
       "o                 3\n",
       "i                 2\n",
       "n                 2\n",
       "r                 1\n",
       "3.43              1\n",
       "has-ring          1\n",
       "4.42              1\n",
       "2.9               1\n",
       "u                 1\n",
       "Name: count, dtype: int64"
      ]
     },
     "execution_count": 170,
     "metadata": {},
     "output_type": "execute_result"
    }
   ],
   "source": [
    "df_train['does-bruise-or-bleed'].value_counts()"
   ]
  },
  {
   "cell_type": "code",
   "execution_count": 171,
   "metadata": {},
   "outputs": [
    {
     "data": {
      "text/plain": [
       "does-bruise-or-bleed\n",
       "f    2568525\n",
       "t     546829\n",
       "Name: count, dtype: int64"
      ]
     },
     "execution_count": 171,
     "metadata": {},
     "output_type": "execute_result"
    }
   ],
   "source": [
    "df_train = filter_by_value_counts(dataframe=df_train, column='does-bruise-or-bleed', min_value=54)\n",
    "\n",
    "df_train['does-bruise-or-bleed'].value_counts()"
   ]
  },
  {
   "cell_type": "code",
   "execution_count": 172,
   "metadata": {},
   "outputs": [],
   "source": [
    "# column = 'cap-color'\n",
    "\n",
    "# plt.figure(figsize=(12, 5))\n",
    "\n",
    "# plt.subplot(1, 2, 1)\n",
    "# sns.histplot(df_train[column].dropna(), kde=False, bins=20, color='blue')\n",
    "# plt.title(f'Histogram of {column}')\n",
    "# plt.xlabel(column)\n",
    "# plt.ylabel('Frequency')\n",
    "\n",
    "# plt.subplot(1, 2, 2)\n",
    "# sns.boxplot(x=df_train[column].dropna(), color='lightgreen')\n",
    "# plt.title(f'Box Plot of {column}')\n",
    "# plt.xlabel(column)\n",
    "\n",
    "# plt.tight_layout()\n",
    "# plt.show()"
   ]
  },
  {
   "cell_type": "code",
   "execution_count": 173,
   "metadata": {},
   "outputs": [
    {
     "data": {
      "text/plain": [
       "gill-attachment\n",
       "a                       1169363\n",
       "d                        588936\n",
       "x                        360711\n",
       "e                        301679\n",
       "s                        295291\n",
       "p                        278976\n",
       "f                        119897\n",
       "c                            74\n",
       "u                            56\n",
       "w                            37\n",
       "t                            36\n",
       "k                            33\n",
       "y                            28\n",
       "i                            25\n",
       "m                            22\n",
       "g                            22\n",
       "b                            21\n",
       "n                            20\n",
       "o                            18\n",
       "h                            18\n",
       "l                            16\n",
       "r                            10\n",
       "z                             5\n",
       "season                        5\n",
       "3.45                          2\n",
       "2.54                          1\n",
       "6.32                          1\n",
       "13.15                         1\n",
       "19.65                         1\n",
       "2.41                          1\n",
       "15.49                         1\n",
       "4.01                          1\n",
       "8.37                          1\n",
       "does f                        1\n",
       "6.11                          1\n",
       "28.7                          1\n",
       "1.51                          1\n",
       "1.37                          1\n",
       "28.15                         1\n",
       "7.09                          1\n",
       "9.88                          1\n",
       "2.67                          1\n",
       "18.21                         1\n",
       "1.48                          1\n",
       "5.93                          1\n",
       "1.32                          1\n",
       "16.27                         1\n",
       "11.26                         1\n",
       "2.79                          1\n",
       "is f                          1\n",
       "8.47                          1\n",
       "3.91                          1\n",
       "has d                         1\n",
       "11.62                         1\n",
       "32.54                         1\n",
       "does-bruise-or-bleed          1\n",
       "4.64                          1\n",
       "4.77                          1\n",
       "p p                           1\n",
       "7.92                          1\n",
       "8.79                          1\n",
       "does None                     1\n",
       "has f                         1\n",
       "ring-type                     1\n",
       "16.33                         1\n",
       "10.85                         1\n",
       "20.07                         1\n",
       "2.82                          1\n",
       "7.86                          1\n",
       "does                          1\n",
       "10.23                         1\n",
       "6.74                          1\n",
       "0.92                          1\n",
       "1                             1\n",
       "is a                          1\n",
       "3.71                          1\n",
       "50.44                         1\n",
       "13.94                         1\n",
       "Name: count, dtype: int64"
      ]
     },
     "execution_count": 173,
     "metadata": {},
     "output_type": "execute_result"
    }
   ],
   "source": [
    "df_train['gill-attachment'].value_counts()"
   ]
  },
  {
   "cell_type": "code",
   "execution_count": 174,
   "metadata": {},
   "outputs": [
    {
     "data": {
      "text/plain": [
       "gill-attachment\n",
       "a    1169363\n",
       "d     588936\n",
       "x     360711\n",
       "e     301679\n",
       "s     295291\n",
       "p     278976\n",
       "f     119897\n",
       "Name: count, dtype: int64"
      ]
     },
     "execution_count": 174,
     "metadata": {},
     "output_type": "execute_result"
    }
   ],
   "source": [
    "df_train = filter_by_value_counts(dataframe=df_train, column='gill-attachment', min_value=75)\n",
    "\n",
    "\n",
    "df_train['gill-attachment'].value_counts()"
   ]
  },
  {
   "cell_type": "code",
   "execution_count": 175,
   "metadata": {},
   "outputs": [
    {
     "data": {
      "text/plain": [
       "['cap-shape',\n",
       " 'cap-surface',\n",
       " 'cap-color',\n",
       " 'does-bruise-or-bleed',\n",
       " 'gill-attachment',\n",
       " 'gill-color',\n",
       " 'stem-color',\n",
       " 'has-ring',\n",
       " 'ring-type',\n",
       " 'habitat',\n",
       " 'season']"
      ]
     },
     "execution_count": 175,
     "metadata": {},
     "output_type": "execute_result"
    }
   ],
   "source": [
    "columns_str"
   ]
  },
  {
   "cell_type": "code",
   "execution_count": 176,
   "metadata": {},
   "outputs": [
    {
     "data": {
      "text/plain": [
       "gill-color\n",
       "w                       930985\n",
       "n                       543034\n",
       "y                       469117\n",
       "p                       343424\n",
       "g                       212014\n",
       "o                       157017\n",
       "k                       127866\n",
       "f                       119630\n",
       "r                        62744\n",
       "e                        56011\n",
       "b                        47208\n",
       "u                        45368\n",
       "l                           55\n",
       "d                           54\n",
       "t                           54\n",
       "s                           46\n",
       "x                           35\n",
       "c                           31\n",
       "a                           28\n",
       "h                           24\n",
       "m                           16\n",
       "z                           16\n",
       "i                            9\n",
       "class                        7\n",
       "season                       7\n",
       "ring-type                    5\n",
       "spacing                      4\n",
       "spore-print-color            3\n",
       "5                            3\n",
       "has-ring                     3\n",
       "habitat                      2\n",
       "18.03                        2\n",
       "e y                          1\n",
       "is y                         1\n",
       "1.91                         1\n",
       "does n                       1\n",
       "4.64                         1\n",
       "10.21                        1\n",
       "16.41                        1\n",
       "6.41                         1\n",
       "8.83                         1\n",
       "veil-type                    1\n",
       "does-bruise-or-bleed         1\n",
       "20.44                        1\n",
       "6.4                          1\n",
       "10.07                        1\n",
       "20.6                         1\n",
       "7.59                         1\n",
       "4                            1\n",
       "0.92                         1\n",
       "18.12                        1\n",
       "3.39                         1\n",
       "does w                       1\n",
       "3.45                         1\n",
       "8.06                         1\n",
       "stem-root                    1\n",
       "6.19                         1\n",
       "4.49                         1\n",
       "9.46                         1\n",
       "5.01                         1\n",
       "3.4                          1\n",
       "17                           1\n",
       "8.37                         1\n",
       "Name: count, dtype: int64"
      ]
     },
     "execution_count": 176,
     "metadata": {},
     "output_type": "execute_result"
    }
   ],
   "source": [
    "df_train['gill-color'].value_counts()"
   ]
  },
  {
   "cell_type": "code",
   "execution_count": 177,
   "metadata": {},
   "outputs": [
    {
     "data": {
      "text/plain": [
       "gill-color\n",
       "w    930985\n",
       "n    543034\n",
       "y    469117\n",
       "p    343424\n",
       "g    212014\n",
       "o    157017\n",
       "k    127866\n",
       "f    119630\n",
       "r     62744\n",
       "e     56011\n",
       "b     47208\n",
       "u     45368\n",
       "Name: count, dtype: int64"
      ]
     },
     "execution_count": 177,
     "metadata": {},
     "output_type": "execute_result"
    }
   ],
   "source": [
    "df_train = filter_by_value_counts(dataframe=df_train, column='gill-color', min_value=56)\n",
    "\n",
    "df_train['gill-color'].value_counts()"
   ]
  },
  {
   "cell_type": "code",
   "execution_count": 178,
   "metadata": {},
   "outputs": [
    {
     "data": {
      "text/plain": [
       "stem-color\n",
       "w                    1195695\n",
       "n                    1002700\n",
       "y                     373642\n",
       "g                     131947\n",
       "o                     111454\n",
       "e                     103314\n",
       "u                      66929\n",
       "p                      54662\n",
       "k                      33647\n",
       "r                      22287\n",
       "l                       9962\n",
       "b                       7355\n",
       "f                        567\n",
       "s                         51\n",
       "t                         40\n",
       "a                         36\n",
       "x                         20\n",
       "i                         19\n",
       "d                         16\n",
       "h                         12\n",
       "m                         11\n",
       "c                          7\n",
       "z                          6\n",
       "ring-type                  3\n",
       "class                      2\n",
       "spore-print-color          2\n",
       "6.31                       1\n",
       "3.98                       1\n",
       "20.07                      1\n",
       "7.7                        1\n",
       "12.92                      1\n",
       "22.6                       1\n",
       "39.51                      1\n",
       "6.09                       1\n",
       "3.56                       1\n",
       "3.37                       1\n",
       "4.62                       1\n",
       "2.54                       1\n",
       "17.45                      1\n",
       "18.06                      1\n",
       "3.53                       1\n",
       "2.78                       1\n",
       "1.41                       1\n",
       "4.49                       1\n",
       "8.49                       1\n",
       "2.75                       1\n",
       "7.84                       1\n",
       "4.75                       1\n",
       "26.4                       1\n",
       "is w                       1\n",
       "8.32                       1\n",
       "23.59                      1\n",
       "33.52                      1\n",
       "1.75                       1\n",
       "is n                       1\n",
       "7.33                       1\n",
       "3.13                       1\n",
       "4.33                       1\n",
       "Name: count, dtype: int64"
      ]
     },
     "execution_count": 178,
     "metadata": {},
     "output_type": "execute_result"
    }
   ],
   "source": [
    "df_train['stem-color'].value_counts()"
   ]
  },
  {
   "cell_type": "code",
   "execution_count": 179,
   "metadata": {},
   "outputs": [
    {
     "data": {
      "text/plain": [
       "stem-color\n",
       "w    1195695\n",
       "n    1002700\n",
       "y     373642\n",
       "g     131947\n",
       "o     111454\n",
       "e     103314\n",
       "u      66929\n",
       "p      54662\n",
       "k      33647\n",
       "r      22287\n",
       "l       9962\n",
       "b       7355\n",
       "f        567\n",
       "Name: count, dtype: int64"
      ]
     },
     "execution_count": 179,
     "metadata": {},
     "output_type": "execute_result"
    }
   ],
   "source": [
    "df_train = filter_by_value_counts(dataframe=df_train, column='stem-color', min_value=52)\n",
    "\n",
    "df_train['stem-color'].value_counts()"
   ]
  },
  {
   "cell_type": "code",
   "execution_count": 180,
   "metadata": {},
   "outputs": [
    {
     "data": {
      "text/plain": [
       "has-ring\n",
       "f             2366792\n",
       "t              747251\n",
       "r                  16\n",
       "h                  13\n",
       "c                  11\n",
       "l                  11\n",
       "s                  11\n",
       "p                  11\n",
       "g                   8\n",
       "z                   6\n",
       "e                   6\n",
       "m                   4\n",
       "x                   4\n",
       "d                   3\n",
       "y                   3\n",
       "k                   2\n",
       "o                   2\n",
       "n                   2\n",
       "f has-ring          1\n",
       "i                   1\n",
       "10.3                1\n",
       "w                   1\n",
       "a                   1\n",
       "Name: count, dtype: int64"
      ]
     },
     "execution_count": 180,
     "metadata": {},
     "output_type": "execute_result"
    }
   ],
   "source": [
    "df_train['has-ring'].value_counts()"
   ]
  },
  {
   "cell_type": "code",
   "execution_count": 181,
   "metadata": {},
   "outputs": [
    {
     "data": {
      "text/plain": [
       "has-ring\n",
       "f    2366792\n",
       "t     747251\n",
       "Name: count, dtype: int64"
      ]
     },
     "execution_count": 181,
     "metadata": {},
     "output_type": "execute_result"
    }
   ],
   "source": [
    "df_train = filter_by_value_counts(dataframe=df_train, column='has-ring', min_value=17)\n",
    "\n",
    "df_train['has-ring'].value_counts()"
   ]
  },
  {
   "cell_type": "code",
   "execution_count": 182,
   "metadata": {},
   "outputs": [
    {
     "data": {
      "text/plain": [
       "ring-type\n",
       "f                       2603751\n",
       "e                        119808\n",
       "z                        113644\n",
       "l                         73364\n",
       "r                         67829\n",
       "p                         67621\n",
       "g                         63649\n",
       "m                          3977\n",
       "t                            98\n",
       "d                            37\n",
       "n                            34\n",
       "x                            32\n",
       "b                            29\n",
       "y                            25\n",
       "s                            18\n",
       "k                            18\n",
       "a                            16\n",
       "h                            15\n",
       "w                            14\n",
       "u                            13\n",
       "c                            11\n",
       "o                             9\n",
       "ring-type                     7\n",
       "i                             4\n",
       "does f                        3\n",
       "season                        3\n",
       "15                            1\n",
       "14                            1\n",
       "2.87                          1\n",
       "sp                            1\n",
       "class                         1\n",
       "spore-print-color             1\n",
       "2                             1\n",
       "11                            1\n",
       "1                             1\n",
       "23.6                          1\n",
       "4                             1\n",
       "does-bruise-or-bleed          1\n",
       "3.12                          1\n",
       "8.25                          1\n",
       "Name: count, dtype: int64"
      ]
     },
     "execution_count": 182,
     "metadata": {},
     "output_type": "execute_result"
    }
   ],
   "source": [
    "df_train['ring-type'].value_counts()"
   ]
  },
  {
   "cell_type": "code",
   "execution_count": 183,
   "metadata": {},
   "outputs": [
    {
     "data": {
      "text/plain": [
       "ring-type\n",
       "f    2603751\n",
       "e     119808\n",
       "z     113644\n",
       "l      73364\n",
       "r      67829\n",
       "p      67621\n",
       "g      63649\n",
       "m       3977\n",
       "Name: count, dtype: int64"
      ]
     },
     "execution_count": 183,
     "metadata": {},
     "output_type": "execute_result"
    }
   ],
   "source": [
    "df_train = filter_by_value_counts(dataframe=df_train, column='ring-type', min_value=99)\n",
    "\n",
    "df_train['ring-type'].value_counts()"
   ]
  },
  {
   "cell_type": "code",
   "execution_count": 184,
   "metadata": {},
   "outputs": [
    {
     "data": {
      "text/plain": [
       "habitat\n",
       "d                       2175299\n",
       "g                        454475\n",
       "l                        171741\n",
       "m                        150725\n",
       "h                        120050\n",
       "w                         18501\n",
       "p                         17155\n",
       "u                          5252\n",
       "e                            53\n",
       "s                            52\n",
       "n                            41\n",
       "t                            40\n",
       "r                            38\n",
       "y                            34\n",
       "a                            34\n",
       "k                            31\n",
       "c                            26\n",
       "b                            18\n",
       "o                            12\n",
       "f                            11\n",
       "i                             7\n",
       "x                             5\n",
       "z                             5\n",
       "habitat                       5\n",
       "class                         3\n",
       "spore-print-color             3\n",
       "ring-type                     2\n",
       "18.35                         1\n",
       "3.68                          1\n",
       "2.44                          1\n",
       "1.66                          1\n",
       "17.38                         1\n",
       "veil-type                     1\n",
       "6.75                          1\n",
       "cap-diameter                  1\n",
       "7.37                          1\n",
       "16.46                         1\n",
       "3.11                          1\n",
       "6.63                          1\n",
       "is w                          1\n",
       "5.62                          1\n",
       "7.31                          1\n",
       "10.07                         1\n",
       "5.56                          1\n",
       "is h                          1\n",
       "4                             1\n",
       "2.94                          1\n",
       "does-bruise-or-bleed          1\n",
       "9.28                          1\n",
       "17.1                          1\n",
       "8.09                          1\n",
       "2.25                          1\n",
       "Name: count, dtype: int64"
      ]
     },
     "execution_count": 184,
     "metadata": {},
     "output_type": "execute_result"
    }
   ],
   "source": [
    "df_train['habitat'].value_counts()"
   ]
  },
  {
   "cell_type": "code",
   "execution_count": 185,
   "metadata": {},
   "outputs": [
    {
     "data": {
      "text/plain": [
       "habitat\n",
       "d    2175299\n",
       "g     454475\n",
       "l     171741\n",
       "m     150725\n",
       "h     120050\n",
       "w      18501\n",
       "p      17155\n",
       "u       5252\n",
       "Name: count, dtype: int64"
      ]
     },
     "execution_count": 185,
     "metadata": {},
     "output_type": "execute_result"
    }
   ],
   "source": [
    "df_train = filter_by_value_counts(df_train, 'habitat', 54)\n",
    "\n",
    "df_train['habitat'].value_counts()"
   ]
  },
  {
   "cell_type": "code",
   "execution_count": 186,
   "metadata": {},
   "outputs": [
    {
     "data": {
      "text/plain": [
       "3113198"
      ]
     },
     "execution_count": 186,
     "metadata": {},
     "output_type": "execute_result"
    }
   ],
   "source": [
    "df_train.shape[0]"
   ]
  },
  {
   "cell_type": "code",
   "execution_count": 187,
   "metadata": {},
   "outputs": [
    {
     "data": {
      "text/html": [
       "<div>\n",
       "<style scoped>\n",
       "    .dataframe tbody tr th:only-of-type {\n",
       "        vertical-align: middle;\n",
       "    }\n",
       "\n",
       "    .dataframe tbody tr th {\n",
       "        vertical-align: top;\n",
       "    }\n",
       "\n",
       "    .dataframe thead th {\n",
       "        text-align: right;\n",
       "    }\n",
       "</style>\n",
       "<table border=\"1\" class=\"dataframe\">\n",
       "  <thead>\n",
       "    <tr style=\"text-align: right;\">\n",
       "      <th></th>\n",
       "      <th>id</th>\n",
       "      <th>class</th>\n",
       "      <th>cap-diameter</th>\n",
       "      <th>cap-shape</th>\n",
       "      <th>cap-surface</th>\n",
       "      <th>cap-color</th>\n",
       "      <th>does-bruise-or-bleed</th>\n",
       "      <th>gill-attachment</th>\n",
       "      <th>gill-color</th>\n",
       "      <th>stem-height</th>\n",
       "      <th>stem-width</th>\n",
       "      <th>stem-color</th>\n",
       "      <th>has-ring</th>\n",
       "      <th>ring-type</th>\n",
       "      <th>habitat</th>\n",
       "      <th>season</th>\n",
       "    </tr>\n",
       "  </thead>\n",
       "  <tbody>\n",
       "    <tr>\n",
       "      <th>0</th>\n",
       "      <td>0</td>\n",
       "      <td>e</td>\n",
       "      <td>8.80</td>\n",
       "      <td>f</td>\n",
       "      <td>s</td>\n",
       "      <td>u</td>\n",
       "      <td>f</td>\n",
       "      <td>a</td>\n",
       "      <td>w</td>\n",
       "      <td>4.51</td>\n",
       "      <td>15.39</td>\n",
       "      <td>w</td>\n",
       "      <td>f</td>\n",
       "      <td>f</td>\n",
       "      <td>d</td>\n",
       "      <td>a</td>\n",
       "    </tr>\n",
       "    <tr>\n",
       "      <th>1</th>\n",
       "      <td>1</td>\n",
       "      <td>p</td>\n",
       "      <td>4.51</td>\n",
       "      <td>x</td>\n",
       "      <td>h</td>\n",
       "      <td>o</td>\n",
       "      <td>f</td>\n",
       "      <td>a</td>\n",
       "      <td>n</td>\n",
       "      <td>4.79</td>\n",
       "      <td>6.48</td>\n",
       "      <td>o</td>\n",
       "      <td>t</td>\n",
       "      <td>z</td>\n",
       "      <td>d</td>\n",
       "      <td>w</td>\n",
       "    </tr>\n",
       "    <tr>\n",
       "      <th>2</th>\n",
       "      <td>2</td>\n",
       "      <td>e</td>\n",
       "      <td>6.94</td>\n",
       "      <td>f</td>\n",
       "      <td>s</td>\n",
       "      <td>b</td>\n",
       "      <td>f</td>\n",
       "      <td>x</td>\n",
       "      <td>w</td>\n",
       "      <td>6.85</td>\n",
       "      <td>9.93</td>\n",
       "      <td>n</td>\n",
       "      <td>f</td>\n",
       "      <td>f</td>\n",
       "      <td>l</td>\n",
       "      <td>w</td>\n",
       "    </tr>\n",
       "    <tr>\n",
       "      <th>3</th>\n",
       "      <td>3</td>\n",
       "      <td>e</td>\n",
       "      <td>3.88</td>\n",
       "      <td>f</td>\n",
       "      <td>y</td>\n",
       "      <td>g</td>\n",
       "      <td>f</td>\n",
       "      <td>s</td>\n",
       "      <td>g</td>\n",
       "      <td>4.16</td>\n",
       "      <td>6.53</td>\n",
       "      <td>w</td>\n",
       "      <td>f</td>\n",
       "      <td>f</td>\n",
       "      <td>d</td>\n",
       "      <td>u</td>\n",
       "    </tr>\n",
       "    <tr>\n",
       "      <th>4</th>\n",
       "      <td>4</td>\n",
       "      <td>e</td>\n",
       "      <td>5.85</td>\n",
       "      <td>x</td>\n",
       "      <td>l</td>\n",
       "      <td>w</td>\n",
       "      <td>f</td>\n",
       "      <td>d</td>\n",
       "      <td>w</td>\n",
       "      <td>3.37</td>\n",
       "      <td>8.36</td>\n",
       "      <td>w</td>\n",
       "      <td>f</td>\n",
       "      <td>f</td>\n",
       "      <td>g</td>\n",
       "      <td>a</td>\n",
       "    </tr>\n",
       "  </tbody>\n",
       "</table>\n",
       "</div>"
      ],
      "text/plain": [
       "   id class  cap-diameter cap-shape cap-surface cap-color  \\\n",
       "0   0     e          8.80         f           s         u   \n",
       "1   1     p          4.51         x           h         o   \n",
       "2   2     e          6.94         f           s         b   \n",
       "3   3     e          3.88         f           y         g   \n",
       "4   4     e          5.85         x           l         w   \n",
       "\n",
       "  does-bruise-or-bleed gill-attachment gill-color  stem-height  stem-width  \\\n",
       "0                    f               a          w         4.51       15.39   \n",
       "1                    f               a          n         4.79        6.48   \n",
       "2                    f               x          w         6.85        9.93   \n",
       "3                    f               s          g         4.16        6.53   \n",
       "4                    f               d          w         3.37        8.36   \n",
       "\n",
       "  stem-color has-ring ring-type habitat season  \n",
       "0          w        f         f       d      a  \n",
       "1          o        t         z       d      w  \n",
       "2          n        f         f       l      w  \n",
       "3          w        f         f       d      u  \n",
       "4          w        f         f       g      a  "
      ]
     },
     "execution_count": 187,
     "metadata": {},
     "output_type": "execute_result"
    }
   ],
   "source": [
    "df_train.head()"
   ]
  },
  {
   "cell_type": "code",
   "execution_count": 188,
   "metadata": {},
   "outputs": [
    {
     "data": {
      "text/plain": [
       "cap-shape                7\n",
       "cap-surface             11\n",
       "cap-color               12\n",
       "does-bruise-or-bleed     2\n",
       "gill-attachment          7\n",
       "gill-color              12\n",
       "stem-color              13\n",
       "has-ring                 2\n",
       "ring-type                8\n",
       "habitat                  8\n",
       "season                   4\n",
       "dtype: int64"
      ]
     },
     "execution_count": 188,
     "metadata": {},
     "output_type": "execute_result"
    }
   ],
   "source": [
    "df_train[columns_str].nunique()"
   ]
  },
  {
   "cell_type": "code",
   "execution_count": 189,
   "metadata": {},
   "outputs": [
    {
     "data": {
      "text/plain": [
       "id                      0\n",
       "class                   0\n",
       "cap-diameter            0\n",
       "cap-shape               0\n",
       "cap-surface             0\n",
       "cap-color               0\n",
       "does-bruise-or-bleed    0\n",
       "gill-attachment         0\n",
       "gill-color              0\n",
       "stem-height             0\n",
       "stem-width              0\n",
       "stem-color              0\n",
       "has-ring                0\n",
       "ring-type               0\n",
       "habitat                 0\n",
       "season                  0\n",
       "dtype: int64"
      ]
     },
     "execution_count": 189,
     "metadata": {},
     "output_type": "execute_result"
    }
   ],
   "source": [
    "df_train.isnull().sum()"
   ]
  },
  {
   "cell_type": "code",
   "execution_count": 190,
   "metadata": {},
   "outputs": [],
   "source": [
    "df_train.to_pickle('../data/processed/1_train.pkl')"
   ]
  },
  {
   "cell_type": "code",
   "execution_count": 191,
   "metadata": {},
   "outputs": [
    {
     "data": {
      "text/plain": [
       "id                            0\n",
       "class                   2077964\n",
       "cap-diameter                  0\n",
       "cap-shape                     0\n",
       "cap-surface                   0\n",
       "cap-color                     0\n",
       "does-bruise-or-bleed          0\n",
       "gill-attachment               0\n",
       "gill-color                    0\n",
       "stem-height                   0\n",
       "stem-width                    0\n",
       "stem-color                    0\n",
       "has-ring                      0\n",
       "ring-type                     0\n",
       "habitat                       0\n",
       "season                        0\n",
       "dtype: int64"
      ]
     },
     "execution_count": 191,
     "metadata": {},
     "output_type": "execute_result"
    }
   ],
   "source": [
    "df_test.isnull().sum()"
   ]
  },
  {
   "cell_type": "code",
   "execution_count": 192,
   "metadata": {},
   "outputs": [
    {
     "data": {
      "text/plain": [
       "cap-shape               62\n",
       "cap-surface             59\n",
       "cap-color               57\n",
       "does-bruise-or-bleed    22\n",
       "gill-attachment         66\n",
       "gill-color              56\n",
       "stem-color              55\n",
       "has-ring                23\n",
       "ring-type               36\n",
       "habitat                 39\n",
       "season                   4\n",
       "dtype: int64"
      ]
     },
     "execution_count": 192,
     "metadata": {},
     "output_type": "execute_result"
    }
   ],
   "source": [
    "df_test[columns_str].nunique()"
   ]
  },
  {
   "cell_type": "code",
   "execution_count": 193,
   "metadata": {},
   "outputs": [
    {
     "name": "stdout",
     "output_type": "stream",
     "text": [
      "<class 'pandas.core.frame.DataFrame'>\n",
      "RangeIndex: 2077964 entries, 0 to 2077963\n",
      "Data columns (total 16 columns):\n",
      " #   Column                Dtype  \n",
      "---  ------                -----  \n",
      " 0   id                    int64  \n",
      " 1   class                 object \n",
      " 2   cap-diameter          float64\n",
      " 3   cap-shape             object \n",
      " 4   cap-surface           object \n",
      " 5   cap-color             object \n",
      " 6   does-bruise-or-bleed  object \n",
      " 7   gill-attachment       object \n",
      " 8   gill-color            object \n",
      " 9   stem-height           float64\n",
      " 10  stem-width            float64\n",
      " 11  stem-color            object \n",
      " 12  has-ring              object \n",
      " 13  ring-type             object \n",
      " 14  habitat               object \n",
      " 15  season                object \n",
      "dtypes: float64(3), int64(1), object(12)\n",
      "memory usage: 253.7+ MB\n"
     ]
    }
   ],
   "source": [
    "df_test.info()"
   ]
  },
  {
   "cell_type": "code",
   "execution_count": 194,
   "metadata": {},
   "outputs": [],
   "source": [
    "df_test.to_pickle(path='../data/processed/1_test.pkl')"
   ]
  },
  {
   "cell_type": "code",
   "execution_count": 196,
   "metadata": {},
   "outputs": [
    {
     "data": {
      "text/plain": [
       "class\n",
       "p    1703271\n",
       "e    1409927\n",
       "Name: count, dtype: int64"
      ]
     },
     "execution_count": 196,
     "metadata": {},
     "output_type": "execute_result"
    }
   ],
   "source": [
    "df_train['class'].value_counts()"
   ]
  },
  {
   "cell_type": "code",
   "execution_count": null,
   "metadata": {},
   "outputs": [],
   "source": []
  }
 ],
 "metadata": {
  "kernelspec": {
   "display_name": "Python 3",
   "language": "python",
   "name": "python3"
  },
  "language_info": {
   "codemirror_mode": {
    "name": "ipython",
    "version": 3
   },
   "file_extension": ".py",
   "mimetype": "text/x-python",
   "name": "python",
   "nbconvert_exporter": "python",
   "pygments_lexer": "ipython3",
   "version": "3.12.5"
  }
 },
 "nbformat": 4,
 "nbformat_minor": 2
}
